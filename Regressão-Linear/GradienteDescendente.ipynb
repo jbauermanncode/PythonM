{
 "cells": [
  {
   "cell_type": "markdown",
   "metadata": {},
   "source": [
    "# REGRESSÃO LINEAR COM GRADIENTE DESCENDENTE\n",
    "\n",
    "# PASSO A PASSO\n",
    "\n",
    "# #1 - DESIGN DO MODELO(INPUT, OUTPUT, FORWARD PASS)\n",
    "\n",
    "# #2 - DEFINIÇÃO DA FUNÇÃO DE CUSTO E OTIMIZADOR\n",
    "\n",
    "# #3 - LOOP DE TREINAMENTO:\n",
    "\n",
    "     - FORWARD PASS: CALCULAR A PREDIÇÃO E O CUSTO\n",
    "\n",
    "     - BACKWARPASS: CALCULAR OS GRADIENTES\n",
    "\n",
    "     - ARUALIZAR OS PESOS"
   ]
  },
  {
   "cell_type": "code",
   "execution_count": 1,
   "metadata": {},
   "outputs": [],
   "source": [
    "import torch\n",
    "import time \n",
    "import torch.nn as nn\n",
    "import numpy as np\n",
    "from sklearn import datasets\n",
    "import matplotlib.pyplot as plt\n",
    "import pandas as pd\n",
    "from PIL import Image, ImageDraw\n",
    "from torch.autograd import Variable"
   ]
  },
  {
   "cell_type": "markdown",
   "metadata": {},
   "source": [
    "# Carregando os dados"
   ]
  },
  {
   "cell_type": "code",
   "execution_count": null,
   "metadata": {},
   "outputs": [],
   "source": [
    "dados = pd.read_csv('ex1data1.txt')"
   ]
  },
  {
   "cell_type": "markdown",
   "metadata": {},
   "source": [
    "# Preparação dos dados"
   ]
  },
  {
   "cell_type": "code",
   "execution_count": null,
   "metadata": {},
   "outputs": [],
   "source": [
    "dados.rename(columns={'profit': 'Lucro',\n",
    "                      'population':'população'},\n",
    "             inplace=True)"
   ]
  },
  {
   "cell_type": "code",
   "execution_count": null,
   "metadata": {},
   "outputs": [],
   "source": [
    "x = np.array(dados['Lucro'])\n",
    "y = np.array(dados['população'])"
   ]
  },
  {
   "cell_type": "code",
   "execution_count": null,
   "metadata": {},
   "outputs": [],
   "source": [
    "lucro = torch.from_numpy(x.astype(np.float32))\n",
    "populacao = torch.from_numpy(y.astype(np.float32))\n",
    "populacao = populacao.view(populacao.shape[0],1)\n",
    "lucro = lucro.view(lucro.shape[0],1)"
   ]
  },
  {
   "cell_type": "code",
   "execution_count": null,
   "metadata": {},
   "outputs": [],
   "source": [
    "print(lucro.shape)\n",
    "print(populacao.shape)"
   ]
  },
  {
   "cell_type": "code",
   "execution_count": null,
   "metadata": {},
   "outputs": [],
   "source": [
    "plt.plot(x, y, 'ro')"
   ]
  },
  {
   "cell_type": "markdown",
   "metadata": {},
   "source": [
    "# Definição do Modelo"
   ]
  },
  {
   "cell_type": "code",
   "execution_count": null,
   "metadata": {},
   "outputs": [],
   "source": [
    "tamanho_de_entrada = 1\n",
    "tamanho_de_saida = 1\n",
    "modelo = nn.Linear(tamanho_de_entrada, tamanho_de_saida)"
   ]
  },
  {
   "cell_type": "markdown",
   "metadata": {},
   "source": [
    "# Definição da função de custo e otimizador"
   ]
  },
  {
   "cell_type": "code",
   "execution_count": null,
   "metadata": {},
   "outputs": [],
   "source": [
    "taxa_de_aprendizagem = 0.01\n",
    "criterion = torch.nn.MSELoss()\n",
    "otimizador = torch.optim.SGD(modelo.parameters(), lr = taxa_de_aprendizagem)\n",
    "print(modelo.parameters())\n",
    "\n"
   ]
  },
  {
   "cell_type": "markdown",
   "metadata": {},
   "source": [
    "# Loop de Treinamento"
   ]
  },
  {
   "cell_type": "code",
   "execution_count": null,
   "metadata": {},
   "outputs": [],
   "source": [
    "num_epocas = 1500\n",
    "contador_custo = []\n",
    "for epoca in range(num_epocas):\n",
    "    #froward pass and loss\n",
    "    y_hat = modelo(lucro)\n",
    "    loss = criterion(y_hat, populacao)\n",
    "    contador_custo.append(loss)\n",
    "    \n",
    "    #backward pass(calcular gradientes)\n",
    "    loss.backward()\n",
    "    \n",
    "    #update(atualizar os pesos)\n",
    "    otimizador.step()\n",
    "\n",
    "    if (epoca + 1):\n",
    "        print(f'Época: {epoca}')\n",
    "        print(f'Custo: {loss.item():.2f}')\n",
    "        print('Coeficientes')\n",
    "        print(f'm: {modelo.weight.data.detach().item():.2f}')\n",
    "        print(f'm (gradiente): {modelo.weight.grad.detach().item():.2f}')\n",
    "        print(f'b: {modelo.bias.data.detach().item():.2f}')\n",
    "        print(f'b (gradiente): {modelo.bias.grad.detach().item():.2f}')\n",
    "        \n",
    "        previsao_final = y_hat.detach().numpy()\n",
    "        plt.plot(lucro, populacao, 'ro')\n",
    "        plt.plot(lucro, previsao_final, 'b')\n",
    "        plt.show()\n",
    "        \n",
    "    #limpar o otimizador\n",
    "    otimizador.zero_grad()\n",
    "\n",
    "custo = [contador.detach().numpy() for contador in contador_custo]\n",
    "\n",
    "#plotando o gráfico da função de Custo\n",
    "print(\"GRÁFICO DA FUNÇÃO DE CUSTO\")\n",
    "plt.plot(custo, 'b')\n",
    "plt.show()\n",
    "\n",
    "    "
   ]
  },
  {
   "cell_type": "code",
   "execution_count": null,
   "metadata": {},
   "outputs": [],
   "source": []
  }
 ],
 "metadata": {
  "interpreter": {
   "hash": "e7370f93d1d0cde622a1f8e1c04877d8463912d04d973331ad4851f04de6915a"
  },
  "kernelspec": {
   "display_name": "Python 3.9.9 64-bit",
   "name": "python3"
  },
  "language_info": {
   "codemirror_mode": {
    "name": "ipython",
    "version": 3
   },
   "file_extension": ".py",
   "mimetype": "text/x-python",
   "name": "python",
   "nbconvert_exporter": "python",
   "pygments_lexer": "ipython3",
   "version": "3.9.9"
  },
  "orig_nbformat": 4
 },
 "nbformat": 4,
 "nbformat_minor": 2
}
